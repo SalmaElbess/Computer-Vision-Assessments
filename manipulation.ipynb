{
  "nbformat": 4,
  "nbformat_minor": 0,
  "metadata": {
    "colab": {
      "name": "manipulation.ipynb",
      "provenance": [],
      "collapsed_sections": []
    },
    "kernelspec": {
      "display_name": "Python 3",
      "language": "python",
      "name": "python3"
    },
    "language_info": {
      "codemirror_mode": {
        "name": "ipython",
        "version": 3
      },
      "file_extension": ".py",
      "mimetype": "text/x-python",
      "name": "python",
      "nbconvert_exporter": "python",
      "pygments_lexer": "ipython3",
      "version": "3.7.4"
    }
  },
  "cells": [
    {
      "cell_type": "code",
      "metadata": {
        "id": "5pcwWYAWWMBs"
      },
      "source": [
        "import numpy as np\n",
        "import cv2\n",
        "import skimage"
      ],
      "execution_count": null,
      "outputs": []
    },
    {
      "cell_type": "code",
      "metadata": {
        "id": "ZbNrJXPJWMBx"
      },
      "source": [
        "def binary_to_str(binary):\n",
        "    try:\n",
        "        int(len(binary) / 8)\n",
        "    except Exception as e:\n",
        "        raise Exception('Binary length is not multiple of 8')\n",
        "\n",
        "    string = ''\n",
        "\n",
        "    for i in range(len(binary) // 8):\n",
        "        integer = int(''.join(binary[8 * i:8 * (i + 1)]), 2)\n",
        "        ascii_character = chr(integer)\n",
        "        string += ascii_character\n",
        "\n",
        "    return string"
      ],
      "execution_count": null,
      "outputs": []
    },
    {
      "cell_type": "code",
      "metadata": {
        "id": "ThHaohAEWMBx"
      },
      "source": [
        "def decode_lsb(image_path):\n",
        "    # STEP 1: Read the image\n",
        "    img = cv2.imread(image_path)\n",
        "    # STEP 2: Iterate over image row by row and get pixel value\n",
        "    # STEP 2.1: Get first channel value\n",
        "    channel = img[:,:,0][0]\n",
        "    # STEP 2.2: read last bit (EVEN or ODD)\n",
        "    bits = channel%2 \n",
        "    # STEP 2.3: Add this bit to a list\n",
        "    bit_list = [str(i) for i in bits.tolist()]\n",
        "    # STEP 2.4: call helper method (binary_to_str) to return & print ascii_string\n",
        "    return binary_to_str(bit_list)\n",
        "\n",
        "    "
      ],
      "execution_count": null,
      "outputs": []
    },
    {
      "cell_type": "code",
      "metadata": {
        "id": "9W6KMYztWMBx",
        "outputId": "ef397deb-9ea4-45ce-edba-013fb9dab7dc"
      },
      "source": [
        "secret_message = decode_lsb('./assets/secret-happy-dog.png')\n",
        "print(secret_message)"
      ],
      "execution_count": null,
      "outputs": [
        {
          "output_type": "stream",
          "text": [
            "\"You weren't supposed to find this!\"¸\u0016 (\u001d]»!\u0006:L²â7ñÓ\u000fN°Ã!K,Õ,¾3hÆLÇË83o@Xµg²»Õ\n"
          ],
          "name": "stdout"
        }
      ]
    }
  ]
}