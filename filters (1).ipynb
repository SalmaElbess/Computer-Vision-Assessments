{
 "cells": [
  {
   "cell_type": "code",
   "execution_count": 1,
   "metadata": {
    "id": "OkBnz8PJ9P2r"
   },
   "outputs": [],
   "source": [
    "from scipy.signal import convolve2d, correlate2d,gaussian\n",
    "import numpy as np\n",
    "import cv2"
   ]
  },
  {
   "cell_type": "markdown",
   "metadata": {},
   "source": [
    "### Helper Funtion\n"
   ]
  },
  {
   "cell_type": "code",
   "execution_count": 3,
   "metadata": {
    "id": "WAElL9lp9P2s"
   },
   "outputs": [],
   "source": [
    "def show_images(images, titles):\n",
    "    #This function is used to show image(s) with titles by sending an array of images and an array of associated titles.\n",
    "    # images[0] will be drawn with the title titles[0] if exists\n",
    "    # You aren't required to understand this function, use it as-is.\n",
    "    assert len(images) == len(titles)\n",
    "    for title in titles:\n",
    "        cv2.namedWindow(title, cv2.WINDOW_NORMAL)\n",
    "    \n",
    "    for title, img in zip(titles, images):\n",
    "        cv2.imshow(title, img)\n",
    "\n",
    "    cv2.waitKey(0)\n",
    "    cv2.destroyAllWindows()\n",
    "\n",
    "# How to use show_images([list of images], [list of titles]) They must have the same length\n",
    "# show_images([img1, img2], ['This is image 1', 'This is image 2'])"
   ]
  },
  {
   "cell_type": "markdown",
   "metadata": {
    "id": "LAbhbEI49P2u"
   },
   "source": [
    "# Requirement"
   ]
  },
  {
   "cell_type": "markdown",
   "metadata": {},
   "source": [
    "### Mean Filter"
   ]
  },
  {
   "cell_type": "code",
   "execution_count": 5,
   "metadata": {
    "id": "pLfH_zsJ9P2v"
   },
   "outputs": [],
   "source": [
    "def create_mean_filter(ksize):\n",
    "    # this function creates mean filter for an arbitary size    \n",
    "    \n",
    "    assert ksize%2 !=0  # assert that the length is odd\n",
    "    \n",
    "    mean_kernel = np.ones((ksize,ksize),dtype = np.uint8)*(1/(ksize*ksize))\n",
    "    \n",
    "    return mean_kernel"
   ]
  },
  {
   "cell_type": "markdown",
   "metadata": {},
   "source": [
    "### Gaussian Filter"
   ]
  },
  {
   "cell_type": "code",
   "execution_count": 6,
   "metadata": {
    "id": "qQsrWx8l9P2v"
   },
   "outputs": [],
   "source": [
    "def create_gaussian_filter(ksize, sigma):\n",
    "    #This function creates gaussian filter for an arbitary size\n",
    "\n",
    "    assert ksize%2 !=0  # assert that the length is odd\n",
    "\n",
    "    x = gaussian(M=ksize, std=sigma)\n",
    "    y = gaussian(M=ksize, std=sigma)\n",
    "    x_1,y_1 = np.meshgrid(x,y)\n",
    "    gauss_kernel = x_1*y_1\n",
    "    gauss_kernel = gauss_kernel/gauss_kernel.sum()\n",
    "    \n",
    "    return gauss_kernel"
   ]
  },
  {
   "cell_type": "markdown",
   "metadata": {},
   "source": [
    "### Testing"
   ]
  },
  {
   "cell_type": "code",
   "execution_count": 7,
   "metadata": {
    "id": "tYIb8taF9P2v"
   },
   "outputs": [],
   "source": [
    "#Reading images\n",
    "original = cv2.imread('./assets/original.png',0)\n",
    "n1 = cv2.imread('./assets/n1.jpg',0)\n",
    "n2 = cv2.imread('./assets/n2.jpg',0)\n",
    "n3 = cv2.imread('./assets/n3.jpg',0)\n",
    "\n",
    "show_images([original,n1,n2,n3],['original','n1','n2','n3'])"
   ]
  },
  {
   "cell_type": "markdown",
   "metadata": {},
   "source": [
    "#### Mean Filter"
   ]
  },
  {
   "cell_type": "code",
   "execution_count": 15,
   "metadata": {},
   "outputs": [],
   "source": [
    "# different noise levels with same filter size\n",
    "\n",
    "my_mean_kernel = create_mean_filter(3)\n",
    "my_blur_mean_n1 = correlate2d(n1,my_mean_kernel,'same')\n",
    "my_blur_mean_n2 = correlate2d(n2,my_mean_kernel,'same')\n",
    "my_blur_mean_n3 = correlate2d(n3,my_mean_kernel,'same')\n",
    "show_images([my_blur_mean_n1/255,my_blur_mean_n2/255 ,my_blur_mean_n3/255],['my_blur_mean_n1','my_blur_mean_n2 ','my_blur_mean_n3'])"
   ]
  },
  {
   "cell_type": "code",
   "execution_count": 10,
   "metadata": {},
   "outputs": [],
   "source": [
    "#same noise level with different filer sizes\n",
    "\n",
    "my_mean_kernel1 = create_mean_filter(3)\n",
    "my_mean_kernel2 = create_mean_filter(7)\n",
    "my_mean_kernel3 = create_mean_filter(11)\n",
    "my_mean_blur1 = correlate2d(n3,my_mean_kernel1,'same')\n",
    "my_mean_blur2 = correlate2d(n3,my_mean_kernel2,'same')\n",
    "my_mean_blur3 = correlate2d(n3,my_mean_kernel3,'same')\n",
    "\n",
    "show_images([original,n3,my_mean_blur1/255,my_mean_blur2/255,my_mean_blur3/255],['Original','Noisy','my_mean_blur1','my_mean_blur2','my_mean_blur3'])"
   ]
  },
  {
   "cell_type": "markdown",
   "metadata": {},
   "source": [
    "#### Guassian Filter "
   ]
  },
  {
   "cell_type": "code",
   "execution_count": 12,
   "metadata": {},
   "outputs": [],
   "source": [
    "# Different noise levels, Same filter size, Same std\n",
    "\n",
    "my_gauss_kernel = create_gaussian_filter(11,0.5)\n",
    "my_blur_gauss_n1 = correlate2d(n1,my_gauss_kernel,'same')\n",
    "my_blur_gauss_n2 = correlate2d(n2,my_gauss_kernel,'same')\n",
    "my_blur_gauss_n3 = correlate2d(n3,my_gauss_kernel,'same')\n",
    "show_images([original,n3,my_blur_gauss_n1/255,my_blur_gauss_n2/255 ,my_blur_gauss_n3/255],['Original','Noisy','my_blur_gauss_n1','my_blur_gauss_n2 ','my_blur_gauss_n3'])"
   ]
  },
  {
   "cell_type": "code",
   "execution_count": 16,
   "metadata": {},
   "outputs": [],
   "source": [
    "# Same noise levels, Same filter size, Different std\n",
    "\n",
    "my_gauss_kernel1 = create_gaussian_filter(11,0.3)\n",
    "my_gauss_kernel2 = create_gaussian_filter(11,0.5)\n",
    "my_gauss_kernel3 = create_gaussian_filter(11,0.8)\n",
    "my_blur_gauss_1 = correlate2d(n3,my_gauss_kernel1,'same')\n",
    "my_blur_gauss_2 = correlate2d(n3,my_gauss_kernel2,'same')\n",
    "my_blur_gauss_3 = correlate2d(n3,my_gauss_kernel3,'same')\n",
    "show_images([original,n3,my_blur_gauss_1/255,my_blur_gauss_2/255 ,my_blur_gauss_3/255],['Original','Noisy','my_blur_gauss_1','my_blur_gauss_2 ','my_blur_gauss_3'])"
   ]
  },
  {
   "cell_type": "code",
   "execution_count": 17,
   "metadata": {},
   "outputs": [],
   "source": [
    "# Same noise levels, Different filter size, Same std\n",
    "\n",
    "my_gauss_kernel1 = create_gaussian_filter(3,0.5)\n",
    "my_gauss_kernel2 = create_gaussian_filter(7,0.5)\n",
    "my_gauss_kernel3 = create_gaussian_filter(11,0.5)\n",
    "my_blur_gauss_1 = correlate2d(n3,my_gauss_kernel1,'same')\n",
    "my_blur_gauss_2 = correlate2d(n3,my_gauss_kernel2,'same')\n",
    "my_blur_gauss_3 = correlate2d(n3,my_gauss_kernel3,'same')\n",
    "show_images([original,n3,my_blur_gauss_1/255,my_blur_gauss_2/255 ,my_blur_gauss_3/255],['Original','Noisy','my_blur_gauss_1','my_blur_gauss_2 ','my_blur_gauss_3'])"
   ]
  },
  {
   "cell_type": "markdown",
   "metadata": {},
   "source": [
    "Mean filter size should be chosen to be relativly small as it has big blurring effect with the effect of pixelization, the bigger the kernel the more we lose the edges in the image and it is more pixelized. So, small is better. It leaves some noise without denoising but it is a trade off.\n",
    "In the gaussian filter, bigger sigma means more contribution from far pixels to the value of the current pixel. very high sigma will make it work as mean filter and the effects of losing details while denoising and pixelization will appear again. So, 0.5 was ok with the chosen kernel size. the bigger the kernel size the photo will be less noisy."
   ]
  }
 ],
 "metadata": {
  "colab": {
   "collapsed_sections": [],
   "name": "Image filtering.ipynb",
   "provenance": []
  },
  "kernelspec": {
   "display_name": "Python 3",
   "language": "python",
   "name": "python3"
  },
  "language_info": {
   "codemirror_mode": {
    "name": "ipython",
    "version": 3
   },
   "file_extension": ".py",
   "mimetype": "text/x-python",
   "name": "python",
   "nbconvert_exporter": "python",
   "pygments_lexer": "ipython3",
   "version": "3.7.4"
  }
 },
 "nbformat": 4,
 "nbformat_minor": 1
}
