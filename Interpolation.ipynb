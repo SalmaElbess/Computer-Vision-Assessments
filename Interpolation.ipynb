{
 "cells": [
  {
   "cell_type": "code",
   "execution_count": 1,
   "metadata": {},
   "outputs": [],
   "source": [
    "import numpy as np\n",
    "import cv2 \n",
    "%matplotlib inline\n",
    "from matplotlib import pyplot as plt"
   ]
  },
  {
   "cell_type": "markdown",
   "metadata": {},
   "source": [
    "# Helper Functions : "
   ]
  },
  {
   "cell_type": "markdown",
   "metadata": {},
   "source": [
    "### Test images utility"
   ]
  },
  {
   "cell_type": "code",
   "execution_count": 2,
   "metadata": {},
   "outputs": [],
   "source": [
    "def create_sharp_img():\n",
    "    \n",
    "    ksize = 7\n",
    "    \n",
    "    test_img = np.zeros((ksize,ksize))\n",
    "    #1-D to 3-D:\n",
    "    test_img = np.dstack([test_img,test_img,test_img])\n",
    "\n",
    "    test_img[1,1,0]= 1.0\n",
    "    test_img[1,5,1]= 1.0\n",
    "    test_img[ksize//2,ksize//2,:] = 1.0\n",
    "    test_img[5,5,2] = 1.0\n",
    "    test_img[5,1,1] = 1.0\n",
    "    test_img[5,1,0] = 1.0\n",
    "    \n",
    "    \n",
    "    #float to np.uint8\n",
    "    test_img = test_img/np.max(test_img)\n",
    "    test_img = test_img*255\n",
    "    test_img = test_img.astype(np.uint8)\n",
    "\n",
    "    \n",
    "    return test_img\n",
    "\n",
    "\n",
    "\n",
    "def create_gaussian_filter(ksize : np.uint16, sigma : np.float64):\n",
    "    \n",
    "    '''\n",
    "    @function:\n",
    "    Get 2-D Gaussian filter.\n",
    "    \n",
    "    @inputs:\n",
    "    ksize: odd integer. Size of the output (symmetric) filter.\n",
    "    sigma: standard deviation of the gaussian function used. (sigma_x= sigma_y)\n",
    "    \n",
    "    @output:\n",
    "    gauss_f: symmetric gaussian filter,  of size = ksize, values ranging from 0 to 1 (value=1 only at the peak. the 0,0 point).\n",
    "    \n",
    "    @Notes:\n",
    "    - In practice, you can get a gaussian kernel by applying gaussian blur to an 1-white-pixel image. This is equivalent \n",
    "    to the step response of the filter (same goes for any image filter that you have a function to calculate).\n",
    "    \n",
    "    - The Fourier Transform of the gaussian function is also a gaussian function of the same mean and variance.\n",
    "    '''\n",
    "    \n",
    "    assert ksize%2 == 1, f'[Unexepcted Input]: ksize input must be an odd integer. {ksize} is not.'\n",
    "    \n",
    "    sample_points = np.arange(-np.floor(ksize/2),np.ceil(ksize/2),1) #points to sample the 1-D gaussian function at\n",
    "\n",
    "    x , y = np.meshgrid(sample_points, sample_points)  #create a symmetric meshgrid (meshgrid from the same list)\n",
    "    \n",
    "    \n",
    "    #Gaussian Function Parameters:\n",
    "    mu_x = 0.0 #Keeps the center of the gaussian function at the (x = 0) point. \n",
    "               #Since x=0 is in the middle of our sample points (by design), then the peak of the gaussian function will be\n",
    "                 #in the center of our output kernel. \n",
    "    mu_y = 0.0 #Keeps the center of the gaussian function at the (y = 0) point. \n",
    "    \n",
    "    sigma_x = sigma #determines spread of the function over the x-axis (columns)\n",
    "    sigma_y = sigma #determines spread of the function over the y-axis (rows)\n",
    "    \n",
    "    #Calculate Gaussian Kernel:\n",
    "    gauss_f = np.exp(   -np.power(x - mu_x, 2.) / (2 * sigma_x**2)    + \n",
    "                        -np.power(y - mu_y, 2.) / (2 * sigma_y**2)      )\n",
    "    \n",
    "    return gauss_f \n",
    "\n",
    "\n",
    "def plot_3_imgs(img_list):\n",
    "    fig = plt.figure(figsize=(20,10))\n",
    "\n",
    "    plt.subplot(1, 3, 1)\n",
    "    plt.imshow(img_list[0], cmap = 'gray')\n",
    "\n",
    "    plt.subplot(1, 3, 2)\n",
    "    plt.imshow(img_list[1])\n",
    "\n",
    "    plt.subplot(1, 3, 3)\n",
    "    plt.imshow(img_list[2])\n",
    "\n",
    "\n",
    "    plt.show()\n"
   ]
  },
  {
   "cell_type": "markdown",
   "metadata": {},
   "source": [
    "### Interpolation Utility"
   ]
  },
  {
   "cell_type": "code",
   "execution_count": 3,
   "metadata": {},
   "outputs": [],
   "source": [
    "def FullCubicInterp(p: list, x:float):\n",
    "    #Uses Catmull-Rom spline\n",
    "    a_interp = -0.5*p[0]  +  1.5*p[1] -  1.5*p[2] + 0.5*p[3]\n",
    "    b_interp = p[0] -  2.5*p[1] + 2*p[2] - 0.5*p[3]\n",
    "    c_interp = -0.5*p[0]  + 0.5*p[2]\n",
    "    d_interp = p[1]\n",
    "    \n",
    "    return a_interp*(x**3) + b_interp*(x**2) + c_interp*(x) + d_interp\n",
    "\n",
    "# Source: * https://www.paulinternet.nl/?page=bicubic , beware, cubicInterpolate function is faulty, use the one here."
   ]
  },
  {
   "cell_type": "markdown",
   "metadata": {},
   "source": [
    "### Transformation Utility"
   ]
  },
  {
   "cell_type": "code",
   "execution_count": 4,
   "metadata": {},
   "outputs": [],
   "source": [
    "def GetPixelValue(imArr: np.ndarray, posX: np.float64, posY: np.float64, method : str = 'CUBIC', verbose: bool = False):\n",
    "    '''\n",
    "    :function: Get the pixel value at the position given using the interpolation method given.\n",
    "    NB: The output is rounded as an integer since this function works on images. So, the function will not work on float values.\n",
    "    \n",
    "    \n",
    "    :param imArr: original image array, dtype must be np.uint8\n",
    "    \n",
    "    :param posX : X position of the point(dtype:float) needed. This is the X position of the T_inv(T(pixel[x])). Where T_inv and T are inverse\n",
    "    transform and transform respectively.\n",
    "    \n",
    "    :param posY : Y position of the point(dtype:float) needed. This is the Y position of the T_inv(T(pixel[y])). Where T_inv and T are inverse\n",
    "    transform and transform respectively.\n",
    "    \n",
    "    :param method : Type of interpolation method used.\n",
    "    \n",
    "    NB: T_inv(T(X)) != X due to rounding errors or due  to the fact that it may not be present (we are adding more pixels!)\n",
    "    \n",
    "    :return: value of pixel at T(pixel[x]),T(pixel[y])\n",
    "    \n",
    "    '''\n",
    "    \n",
    "    #Get integer and fractional parts of numbers \n",
    "        #(3- Make sure you account for edge cases (eg: negative indices, or indices that are outside the original source image))\n",
    "    modXi = int(posX) #Shows x to the left of the point\n",
    "    modYi = int(posY) #Show y above the point\n",
    "    \n",
    "    modXiPlusOneLim = min(modXi+1,imArr.shape[1]-1)\n",
    "    modYiPlusOneLim = min(modYi+1,imArr.shape[0]-1)\n",
    "    \n",
    "    modXiMinusOneLim = max(modXi-1,0)\n",
    "    modYiMinusOneLim = max(modYi-1,0)\n",
    "    \n",
    "    modXiPlusPlusOneLim = min(modXi+2,imArr.shape[1]-1)\n",
    "    modYiPlusPlusOneLim = min(modYi+2,imArr.shape[0]-1)\n",
    "    \n",
    "    modXf = max(0 , posX - modXi)\n",
    "    modYf = max(0 , posY - modYi)\n",
    "    \n",
    "    \n",
    "    x_s = [modXi , modXiPlusOneLim]\n",
    "    y_s = [modYi, modYiPlusOneLim]\n",
    "\n",
    "    \n",
    "    '''\n",
    "        (modXi,modYi)-------------------(modXiPlusOneLim,modYi)\n",
    "        |                                                |\n",
    "        |                                                |\n",
    "        |               (posX,posY)                      |\n",
    "        |                                                |\n",
    "        (modXi,modYiPlusOneLim)---------------------(modXiPlusOneLim,modYiPlusOneLim)\n",
    "        \n",
    "    '''\n",
    "   \n",
    "    \n",
    "    \n",
    "    if (method == \"NEAREST\"):\n",
    "\n",
    "        nearest_x = sorted( x_s, key = lambda x: (x-posX)**2 ) [0] \n",
    "        nearest_y = sorted( y_s, key = lambda y: (y-posY)**2 ) [0]\n",
    "\n",
    "        \n",
    "        \n",
    "        if (verbose): print(f' Of points : {points_list}\\n. Point {(nearest_x,nearest_y)} is closest to {(posX, posY)}') \n",
    "        out = imArr[nearest_y,nearest_x,:]\n",
    "        \n",
    "    \n",
    "    elif (method == \"LINEAR\"):\n",
    "        out = []\n",
    "        \n",
    "        for chan in range(imArr.shape[2]):\n",
    "            #print(chan)\n",
    "            #print(imArr.shape)\n",
    "            #Get surrouding four points:  #TODO 03\n",
    "\n",
    "            bl = imArr[modYiPlusOneLim,modXi,chan] #bottom left\n",
    "            br = imArr[modYiPlusOneLim,modXiPlusOneLim,chan] #bottom right\n",
    "            \n",
    "            tl = imArr[modYi,modXi,chan]  #top left\n",
    "            tr = imArr[modYi,modXiPlusOneLim,chan] #top right\n",
    "                \n",
    "                \n",
    "            #Line-Fitting  (visit: https://math.stackexchange.com/questions/2045174/how-to-find-a-point-between-two-points-with-given-distance)  \n",
    "            \n",
    "            #First Linear Fit: #TODO 04\n",
    "            total_dist = abs(modXiPlusOneLim - modXi) #total distance between right and left pixels\n",
    "            \n",
    "            if total_dist: #if the total distance is not zero\n",
    "\n",
    "                right_ratio = modXf/ total_dist #the contribution ratio of the right pixels \n",
    "                b = bl*(1-right_ratio) + br*right_ratio #Bottom Line point\n",
    "                t = tl*(1-right_ratio) + tr*right_ratio #Top Line point\n",
    "            else: #if zero assign to right pixels\n",
    "                b = br \n",
    "                t = tr \n",
    "            \n",
    "            #Second Linear Fit: #TODO 05\n",
    "            total_y_dist = abs(modYiPlusOneLim - modYi) #total distance between top and bottom pixels\n",
    "            \n",
    "            if total_y_dist: #if the distance is not zero\n",
    "                \n",
    "                bottom_ratio = modYf/total_y_dist #contribution ratio of the bottom pixels\n",
    "                pxf = t*(1-bottom_ratio) + b*bottom_ratio  #Actual Point\n",
    "            \n",
    "            else: #if zero assign to top pixels\n",
    "                \n",
    "                pxf = t \n",
    "            \n",
    "            out.append(int(np.round(pxf)))\n",
    "\n",
    "        \n",
    "    elif (method == \"CUBIC\"):\n",
    "        \n",
    "        out = []\n",
    "        \n",
    "        for chan in range(imArr.shape[2]):\n",
    "                \n",
    "\n",
    "                #Get surrouding 16 points: \n",
    "                \n",
    "                p = np.ndarray((4,4), dtype = np.float64)\n",
    "                \n",
    "                '''\n",
    "                p[0,0] -- p[0,1] ------------ p[0,2] -- p[0,3]\n",
    "                    |        |                   |        |\n",
    "                p[1,0] -- p[1,1] ------------ p[1,2] -- p[1,3]\n",
    "                    |        |    (posX,posY)   |         |\n",
    "                p[2,0] -- p[2,1] ------------ p[2,2] -- p[2,3]\n",
    "                    |        |                   |         |\n",
    "                p[3,0] -- p[3,1] ------------ p[3,2] -- p[3,3]\n",
    "\n",
    "                '''\n",
    "                p[0,0]= imArr[ modYiMinusOneLim, modXiMinusOneLim, chan]\n",
    "                p[0,1]= imArr[ modYiMinusOneLim, modXi, chan]\n",
    "                p[0,2]= imArr[ modYiMinusOneLim, modXiPlusOneLim, chan]\n",
    "                p[0,3]= imArr[ modYiMinusOneLim, modXiPlusPlusOneLim, chan]\n",
    "\n",
    "                p[1,0]= imArr[ modYi, modXiMinusOneLim, chan]\n",
    "                p[1,1]= imArr[ modYi, modXi, chan]\n",
    "                p[1,2]= imArr[ modYi, modXiPlusOneLim, chan]\n",
    "                p[1,3]= imArr[ modYi, modXiPlusPlusOneLim, chan]\n",
    "\n",
    "                p[2,0]= imArr[ modYiPlusOneLim, modXiMinusOneLim, chan]\n",
    "                p[2,1]= imArr[ modYiPlusOneLim, modXi, chan]\n",
    "                p[2,2]= imArr[ modYiPlusOneLim, modXiPlusOneLim, chan]\n",
    "                p[2,3]= imArr[ modYiPlusOneLim, modXiPlusPlusOneLim, chan]\n",
    "\n",
    "                p[3,0]= imArr[ modYiPlusPlusOneLim, modXiMinusOneLim, chan]\n",
    "                p[3,1]= imArr[ modYiPlusPlusOneLim, modXi, chan]\n",
    "                p[3,2]= imArr[ modYiPlusPlusOneLim, modXiPlusOneLim, chan]\n",
    "                p[3,3]= imArr[ modYiPlusPlusOneLim, modXiPlusPlusOneLim, chan]\n",
    "\n",
    "\n",
    "                \n",
    "                #First Cubic Fit:\n",
    "                p_cubic = [0.0, 0.0, 0.0, 0.0]\n",
    "                p_cubic[0] = FullCubicInterp(list(p[0,:]), modXf)\n",
    "                p_cubic[1] = FullCubicInterp(list(p[1,:]), modXf)\n",
    "                p_cubic[2] = FullCubicInterp(list(p[2,:]), modXf)\n",
    "                p_cubic[3] = FullCubicInterp(list(p[3,:]), modXf)\n",
    "                \n",
    "                \n",
    "                #Second Cubic Fit: #TODO 02\n",
    "                point = FullCubicInterp(p_cubic,modYf)\n",
    "                \n",
    "                \n",
    "                #Append this channel value:\n",
    "                out.append( np.clip(int(np.round(point)), 0, 255) ) #Do we need to clip in the bilinear mode ? No. Why ?\n",
    "            \n",
    "            \n",
    "            \n",
    "    else:\n",
    "        raise ValueError('UNKNOWN INTERPOLATION METHOD REQUESTED')\n",
    " \n",
    "        \n",
    "    \n",
    "    return out"
   ]
  },
  {
   "cell_type": "markdown",
   "metadata": {},
   "source": [
    "# Images to Test On:"
   ]
  },
  {
   "cell_type": "code",
   "execution_count": 5,
   "metadata": {},
   "outputs": [
    {
     "data": {
      "image/png": "[encoded data removed]",
      "text/plain": [
       "<Figure size 1440x720 with 3 Axes>"
      ]
     },
     "metadata": {
      "needs_background": "light"
     },
     "output_type": "display_data"
    }
   ],
   "source": [
    "smooth_test_img    = create_gaussian_filter(ksize = 51, sigma= 4.0)\n",
    "smooth_test_img  = ((smooth_test_img/np.max(smooth_test_img))*255).astype(np.uint8)\n",
    "smooth_test_img = np.dstack([smooth_test_img,smooth_test_img,smooth_test_img])\n",
    "\n",
    "sharp_test_img     = create_sharp_img()\n",
    "\n",
    "character_test_img = cv2.imread('assets/Curve2.png')[:,:, ::-1] #[:,:, ::-1]  --> BGR to RGB\n",
    "\n",
    "\n",
    "imgs_list = [smooth_test_img, sharp_test_img, character_test_img]\n",
    "\n",
    "plot_3_imgs(imgs_list)"
   ]
  },
  {
   "cell_type": "markdown",
   "metadata": {},
   "source": [
    "# OpenCV resize :"
   ]
  },
  {
   "cell_type": "code",
   "execution_count": 6,
   "metadata": {},
   "outputs": [
    {
     "name": "stdout",
     "output_type": "stream",
     "text": [
      "CUBIC\n"
     ]
    },
    {
     "data": {
      "image/png": "[encoded data removed]",
      "text/plain": [
       "<Figure size 1440x720 with 3 Axes>"
      ]
     },
     "metadata": {
      "needs_background": "light"
     },
     "output_type": "display_data"
    }
   ],
   "source": [
    "resize_ratio = 3.0\n",
    "#Bicubic Interpolation:\n",
    "#TODO 01 #Use Bicubic Interpolation, use the documentation link : \n",
    "    #https://docs.opencv.org/2.4/modules/imgproc/doc/geometric_transformations.html\n",
    "cubic_resized_list = []\n",
    "for test_img in imgs_list:\n",
    "    resized = cv2.resize(test_img, \n",
    "                         (int(test_img.shape[1]*resize_ratio) ,int(test_img.shape[0]*resize_ratio)),\n",
    "                         interpolation = cv2.INTER_CUBIC)\n",
    "    cubic_resized_list.append(resized)\n",
    "    \n",
    "print('CUBIC')\n",
    "plot_3_imgs(cubic_resized_list)"
   ]
  },
  {
   "cell_type": "markdown",
   "metadata": {},
   "source": [
    "# Our Resize :"
   ]
  },
  {
   "cell_type": "code",
   "execution_count": 7,
   "metadata": {},
   "outputs": [],
   "source": [
    "resize_ratio = 3.0"
   ]
  },
  {
   "cell_type": "code",
   "execution_count": 8,
   "metadata": {
    "scrolled": false
   },
   "outputs": [
    {
     "name": "stdout",
     "output_type": "stream",
     "text": [
      "LINEAR\n"
     ]
    },
    {
     "data": {
      "image/png": "[encoded data removed]",
      "text/plain": [
       "<Figure size 1440x720 with 3 Axes>"
      ]
     },
     "metadata": {
      "needs_background": "light"
     },
     "output_type": "display_data"
    }
   ],
   "source": [
    "#Bilinear Interpolation:\n",
    "my_linear_resized_list = []\n",
    "for test_img in imgs_list:\n",
    "\n",
    "    im  = test_img\n",
    "    #1 : Calculate the size of the new image give the transformation\n",
    "    enlargedShape = ( int(np.round(im.shape[0]*resize_ratio)),\n",
    "                      int(np.round(im.shape[1]*resize_ratio)),\n",
    "                      im.shape[2]\n",
    "                    )\n",
    "    enlargedImg = np.empty(enlargedShape, dtype=np.uint8)  #Empty new image\n",
    "\n",
    "\n",
    "    #Calculate the inverse transform \n",
    "    #(Note here that the inverse transform is calculated from the actual size, not from 1/resize_ratio)\n",
    "    rowScale = float(im.shape[0]) / float(enlargedImg.shape[0])\n",
    "    colScale = float(im.shape[1]) / float(enlargedImg.shape[1])\n",
    "\n",
    "\n",
    "    #2- Loop over pixels in the the new -now empty- image and assign them one by one by:\n",
    "    for r in range(enlargedImg.shape[0]):\n",
    "        for c in range(enlargedImg.shape[1]):\n",
    "\n",
    "            #Applying inverse transformation to the pixel postions from the new image:\n",
    "            #3- Make sure you account for edge cases (eg: negative indices, or indices that are outside the original source image)\n",
    "            orir = (r-(1/rowScale)//2) * rowScale #(r-resize_ratio/2) * rowScale #Find original row in original image\n",
    "            oric = (c-(1/colScale)//2) * colScale #(c-resize_ratio/2) * colScale\n",
    "\n",
    "            #Interpolating value for the inverse(new_pixel_position) from surrounding pixels in source image\n",
    "            enlargedImg[r, c] = GetPixelValue(im, oric, orir, method = \"LINEAR\", verbose = False)\n",
    "\n",
    "    my_linear_resized_list.append(enlargedImg)\n",
    "\n",
    "print('LINEAR')\n",
    "plot_3_imgs(my_linear_resized_list)\n",
    "\n"
   ]
  },
  {
   "cell_type": "code",
   "execution_count": 9,
   "metadata": {},
   "outputs": [
    {
     "name": "stdout",
     "output_type": "stream",
     "text": [
      "CUBIC\n"
     ]
    },
    {
     "data": {
      "image/png": "[encoded data removed]",
      "text/plain": [
       "<Figure size 1440x720 with 3 Axes>"
      ]
     },
     "metadata": {
      "needs_background": "light"
     },
     "output_type": "display_data"
    }
   ],
   "source": [
    "#Bicbuic Interpolation:\n",
    "my_cubic_resized_list = []\n",
    "for test_img in imgs_list:\n",
    "\n",
    "    im  = test_img\n",
    "    #1 : Calculate the size of the new image give the transformation\n",
    "    enlargedShape = ( int(np.round(im.shape[0]*resize_ratio)),\n",
    "                      int(np.round(im.shape[1]*resize_ratio)),\n",
    "                      im.shape[2]\n",
    "                    )\n",
    "    enlargedImg = np.empty(enlargedShape, dtype=np.uint8)  #Empty new image\n",
    "\n",
    "\n",
    "    #Calculate the inverse transform \n",
    "    #(Note here that the inverse transform is calculated from the actual size, not from 1/resize_ratio)\n",
    "    rowScale = float(im.shape[0]) / float(enlargedImg.shape[0])\n",
    "    colScale = float(im.shape[1]) / float(enlargedImg.shape[1])\n",
    "\n",
    "\n",
    "    #2- Loop over pixels in the the new -now empty- image and assign them one by one by:\n",
    "    for r in range(enlargedImg.shape[0]):\n",
    "        for c in range(enlargedImg.shape[1]):\n",
    "\n",
    "            #Applying inverse transformation to the pixel postions from the new image:\n",
    "            #3- Make sure you account for edge cases (eg: negative indices, or indices that are outside the original source image)\n",
    "            orir = (r-(1/rowScale)//2) * rowScale #(r-resize_ratio/2) * rowScale #Find original row in original image\n",
    "            oric = (c-(1/colScale)//2) * colScale #(c-resize_ratio/2) * colScale\n",
    "\n",
    "            #Interpolating value for the inverse(new_pixel_position) from surrounding pixels in source image\n",
    "            enlargedImg[r, c] = GetPixelValue(im, oric, orir, method = \"CUBIC\", verbose = False)\n",
    "\n",
    "    my_cubic_resized_list.append(enlargedImg)\n",
    "\n",
    "print('CUBIC')\n",
    "plot_3_imgs(my_cubic_resized_list)\n",
    "\n"
   ]
  },
  {
   "cell_type": "code",
   "execution_count": null,
   "metadata": {},
   "outputs": [],
   "source": []
  }
 ],
 "metadata": {
  "kernelspec": {
   "display_name": "Python 3",
   "language": "python",
   "name": "python3"
  },
  "language_info": {
   "codemirror_mode": {
    "name": "ipython",
    "version": 3
   },
   "file_extension": ".py",
   "mimetype": "text/x-python",
   "name": "python",
   "nbconvert_exporter": "python",
   "pygments_lexer": "ipython3",
   "version": "3.7.4"
  }
 },
 "nbformat": 4,
 "nbformat_minor": 2
}
