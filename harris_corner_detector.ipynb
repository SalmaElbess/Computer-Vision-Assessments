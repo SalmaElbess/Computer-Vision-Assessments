{
  "nbformat": 4,
  "nbformat_minor": 0,
  "metadata": {
    "kernelspec": {
      "display_name": "Python 3",
      "language": "python",
      "name": "python3"
    },
    "language_info": {
      "codemirror_mode": {
        "name": "ipython",
        "version": 3
      },
      "file_extension": ".py",
      "mimetype": "text/x-python",
      "name": "python",
      "nbconvert_exporter": "python",
      "pygments_lexer": "ipython3",
      "version": "3.7.4"
    },
    "colab": {
      "name": "CIE552_Spring2021_Assignment_Salma_201601152_harris_corner_detector.ipynb",
      "provenance": []
    }
  },
  "cells": [
    {
      "cell_type": "code",
      "metadata": {
        "id": "Yh7-l_fQ8871"
      },
      "source": [
        "import cv2\n",
        "from matplotlib import pyplot as plt\n",
        "from skimage import io\n",
        "import skimage\n",
        "import numpy as np\n",
        "from scipy.signal import convolve2d, correlate2d,gaussian\n",
        "from skimage.feature import peak_local_max\n",
        "%matplotlib inline"
      ],
      "execution_count": null,
      "outputs": []
    },
    {
      "cell_type": "code",
      "metadata": {
        "id": "DR2NeJIr8875"
      },
      "source": [
        "def create_gaussian_filter(ksize, sigma):\n",
        "    #This function creates gaussian filter for an arbitary size\n",
        "\n",
        "    assert ksize%2 !=0  # assert that the length is odd\n",
        "\n",
        "    x = gaussian(M=ksize, std=sigma)\n",
        "    y = gaussian(M=ksize, std=sigma)\n",
        "    x_1,y_1 = np.meshgrid(x,y)\n",
        "    gauss_kernel = x_1*y_1\n",
        "    gauss_kernel = gauss_kernel/gauss_kernel.sum()\n",
        "    \n",
        "    return gauss_kernel"
      ],
      "execution_count": null,
      "outputs": []
    },
    {
      "cell_type": "code",
      "metadata": {
        "id": "VR7wJm2P8875"
      },
      "source": [
        "def Harris_detector(img_path):\n",
        "    ''' This funtion takes image path and return the cornerness response of the image\n",
        "        ----------------\n",
        "        parametrs\n",
        "        img_path: path to image\n",
        "        ----------------\n",
        "        returns\n",
        "        R: cornerness response (2d matrix same shape as the gray scale image)\n",
        "    '''\n",
        "    #image import\n",
        "    image = cv2.imread(img_path)\n",
        "    img = cv2.cvtColor(image, cv2.COLOR_RGB2GRAY)\n",
        "    img = skimage.img_as_float32(img)\n",
        "    \n",
        "    # gradient filters\n",
        "    sobelx = np.array([[-1,0,1],[-2,0,2],[-1,0,1]])\n",
        "    sobely= np.array([[1,2,1],[0,0,0],[-1,-2,-1]])\n",
        "\n",
        "\n",
        "    #getting direvatives of gaussian \n",
        "    gaussian_filter = create_gaussian_filter(5,1)\n",
        "    Gx = convolve2d(gaussian_filter,sobelx,'same')\n",
        "    Gy = convolve2d(gaussian_filter,sobely,'same')\n",
        "\n",
        "    #convolving the drevatives of gaussian with the image\n",
        "    Ix = convolve2d(img,Gx,'same')\n",
        "    Iy = convolve2d(img,Gy,'same')\n",
        "    \n",
        "    #different way to get the Ix and Iy\n",
        "    #Ig = convolve2d(img,gaussian_filter,'same')\n",
        "    #Ix = convolve2d(Ig,sobelx,'same')\n",
        "    #Iy = convolve2d(Ig,sobely,'same')\n",
        "\n",
        "    Ix_Ix = np.multiply(Ix,Ix)\n",
        "    Iy_Iy = np.multiply(Iy,Iy)\n",
        "    Ix_Iy =np.multiply(Ix,Iy)\n",
        "\n",
        "\n",
        "\n",
        "    alpha = 0.04\n",
        "\n",
        "    ##implementation using for loop --- the following implemenation is getting the sum and R using for loop. with 2 different \n",
        "    ##                                  windows options avaiable, rect window and gaussian weights window. while using the \n",
        "    ##                                  gaussian weights window. multiplying with gaussian kernel then taking taking the \n",
        "    ##                                  sum is the same as convolotion or correlation. So, ready made convolution is used to\n",
        "    ##                                  speed up the code. The result of the for loop and convolotion is the same anyway. \n",
        "    ##                              --- to use the for loop insted of the convolution, you can comment the section\n",
        "    ##                                  between #* and uncomment the section between #**\n",
        "\n",
        "    #for loop implementation \n",
        "    #*\n",
        "    #height,width = Ix_Ix.shape\n",
        "    #Sx = np.zeros((height,width))\n",
        "    #Sy = np.zeros((height,width))\n",
        "    #Sxy = np.zeros((height,width))\n",
        "    #R = np.zeros((height,width))\n",
        "    #for row in range(2,height - 4):\n",
        "    #    for col in range(2,width - 4):\n",
        "    #        #sum with gaussian window\n",
        "    #        Sx[row,col] = np.sum(np.multiply(Ix_Ix[row-2:row+3,col-2:col+3],gaussian_filter))\n",
        "    #        Sy[row,col] = np.sum(np.multiply(Iy_Iy[row-2:row+3,col-2:col+3],gaussian_filter))\n",
        "    #        Sxy[row,col] = np.sum(np.multiply(Ix_Iy[row-2:row+3,col-2:col+3],gaussian_filter))\n",
        "    #        #uncomment the 3 following lines and comment the 3 previous for using rect window instead of gaussian\n",
        "    #        #Sx[row,col] = np.sum(Ix_Ix[row-2:row+3,col-2:col+3])\n",
        "    #        #Sy[row,col] = np.sum(Iy_Iy[row-2:row+3,col-2:col+3])\n",
        "    #        #Sxy[row,col] = np.sum(Ix_Iy[row-2:row+3,col-2:col+3])\n",
        "    #\n",
        "    #        R[row,col] = (Sx[row,col]*Sy[row,col] - Sxy[row,col]*Sxy[row,col]) - alpha*(Sx[row,col]+Sy[row,col])**2\n",
        "\n",
        "    #*\n",
        "\n",
        "    #convolution implementation \n",
        "    #**\n",
        "    gaussian_weights = create_gaussian_filter(3,1)\n",
        "    Sx = convolve2d(Ix_Ix,gaussian_weights,'same')\n",
        "    Sy = convolve2d(Iy_Iy,gaussian_weights,'same')\n",
        "    Sxy = convolve2d(Ix_Iy,gaussian_weights,'same')\n",
        "    R = (Sx*Sy - Sxy*Sxy) - alpha*(Sx+Sy)**2\n",
        "    #**\n",
        "    return R"
      ],
      "execution_count": null,
      "outputs": []
    },
    {
      "cell_type": "code",
      "metadata": {
        "id": "syOkfb-d8877",
        "outputId": "f1b49cbd-2d0a-42c6-f912-eedcb1987621"
      },
      "source": [
        "#image import to plot\n",
        "image_path = 'assets/corners.jpg'\n",
        "image = cv2.imread(image_path)\n",
        "gray = cv2.cvtColor(image, cv2.COLOR_RGB2GRAY)\n",
        "gray = skimage.img_as_float32(gray)\n",
        "\n",
        "#getting the cornerness response\n",
        "R = Harris_detector(image_path)\n",
        "\n",
        "#thresholding\n",
        "threshold = np.max(R)*0.001 #different threshold values detect different number of corners        \n",
        "ret, thresholded_image = cv2.threshold(R, threshold, 1.0, 0)\n",
        "plt.imshow(gray,cmap='gray')\n",
        "\n",
        "#get local max \n",
        "coordinates = peak_local_max(thresholded_image, min_distance=20)\n",
        "plt.plot(coordinates[:, 1], coordinates[:, 0], 'r.')"
      ],
      "execution_count": null,
      "outputs": [
        {
          "output_type": "execute_result",
          "data": {
            "text/plain": [
              "[<matplotlib.lines.Line2D at 0x1d48cdd0608>]"
            ]
          },
          "metadata": {
            "tags": []
          },
          "execution_count": 6
        },
        {
          "output_type": "display_data",
          "data": {
            "image/png": "[encoded data removed]",
            "text/plain": [
              "<Figure size 432x288 with 1 Axes>"
            ]
          },
          "metadata": {
            "tags": [],
            "needs_background": "light"
          }
        }
      ]
    },
    {
      "cell_type": "code",
      "metadata": {
        "id": "t7c0bTZP8878"
      },
      "source": [
        ""
      ],
      "execution_count": null,
      "outputs": []
    }
  ]
}
